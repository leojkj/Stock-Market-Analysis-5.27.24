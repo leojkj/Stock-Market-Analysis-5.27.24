{
 "cells": [
  {
   "cell_type": "code",
   "execution_count": 106,
   "id": "cef32691-97f7-48ad-9d7f-557d29cd6425",
   "metadata": {},
   "outputs": [
    {
     "name": "stdout",
     "output_type": "stream",
     "text": [
      "[['INNOVATIVE EYEWEAR INC.', '0.9830', '+428.49%', '0.2331', '1.1300', '0.2230', '944,432,386'], ['AKANDA CORP.', '4.11', '+71.97%', '5.17', '5.66', '3.03', '39,116,103'], ['ONEMEDNET CORP', '2.30', '+56.46%', '1.60', '3.21', '1.60', '136,208,255'], ['IPOWER INC.', '2.03', '+36.24%', '1.60', '2.06', '1.57', '1,406,599'], ['MERUS N.V.', '59.99', '+36.12%', '52.60', '61.61', '52.34', '6,908,179'], ['MINIM INC.', '4.29', '+32.82%', '3.30', '4.60', '3.18', '1,034,029'], ['YOSHITSU CO. LTD ADS', '0.3000', '+31.58%', '0.2400', '0.5019', '0.2195', '84,500,316'], ['QILIAN INTERNATIONAL HOLDING GROUP', '0.8680', '+31.54%', '0.6780', '0.9677', '0.6404', '158,704'], ['SMX (SECURITY MATTERS) PUBLIC', '0.1986', '+31.26%', '0.1468', '0.2900', '0.1467', '57,063,038'], ['BREEZE HLD.', '0.2025', '+29.81%', '0.2478', '0.2478', '0.2000', '11,100'], ['TRANSCODE THERAPEUTICS INC.', '1.79', '+28.78%', '1.45', '1.83', '1.42', '2,245,498'], ['ONCONETIX INC.', '0.1819', '+28.64%', '0.1446', '0.2850', '0.1372', '38,461,219'], ['INNOVATIVE SOLUTIONS AND SUPPORT', '6.39', '+28.06%', '6.17', '6.77', '5.92', '742,774'], ['SINGULARITY FUTURE TECHNOLOGY', '4.68', '+26.49%', '3.92', '5.18', '3.91', '39,233'], ['ALSET INC.', '0.6700', '+26.42%', '0.5583', '0.7800', '0.5456', '814,675'], ['AEYE INC.', '3.48', '+24.73%', '2.74', '3.81', '2.63', '7,377,869'], ['CONIFER HLD.', '22.40', '+24.51%', '18.98', '22.40', '18.50', '8,691'], ['TENX KEANE ACQUISITION RIGHT', '0.2721', '+23.63%', '0.2791', '0.2791', '0.2721', '2,118'], ['NIOCORP DEVELOPMENTS', '2.46', '+23.00%', '2.05', '2.47', '2.04', '305,555'], ['CRITICAL METALS', '9.94', '+22.56%', '8.50', '9.98', '8.16', '46,066'], ['AGBA GROUP HOLDING', '2.65', '+22.12%', '2.25', '2.69', '2.22', '2,161,799'], ['LUXURBAN HOTELS INC.', '0.3640', '+21.45%', '0.3192', '0.3950', '0.3150', '5,033,754'], ['NAAS TECHNOLOGY INC. ADS', '0.4239', '+20.43%', '0.3634', '0.4303', '0.3520', '1,941,225'], ['BIORA THERAPEUTICS INC.', '0.5936', '+19.44%', '0.5430', '0.6071', '0.5430', '853,125'], ['IMMATICS N.V.', '11.70', '+19.14%', '9.85', '11.83', '9.82', '2,174,451'], ['TROOPS INC.', '1.19', '+19.00%', '1.01', '1.22', '0.74', '503,031'], ['SAVERONE 2014', '0.5940', '+18.80%', '0.5100', '0.6100', '0.4901', '180,095'], ['PLUTONIAN ACQUISITION', '9.11', '+18.62%', '8.23', '9.11', '8.23', '684'], ['CLEARSIGN TECHNOLOGIES', '0.9000', '+18.27%', '0.7642', '0.9600', '0.7642', '323,965'], ['TIAN RUIXIANG HLD.', '3.18', '+18.22%', '3.39', '3.83', '2.72', '12,697,466'], ['ERAYAK POWER SOLUTION GROUP', '0.9510', '+18.02%', '0.8000', '1.0300', '0.7700', '259,195'], ['AVALO THERAPEUTICS INC.', '13.10', '+17.49%', '10.98', '13.23', '10.98', '44,830'], ['SOLIDION TECHNOLOGY INC.', '2.42', '+17.48%', '2.25', '2.42', '2.16', '262,486'], ['VIRIOS THERAPEUTICS INC.', '0.2094', '+16.98%', '0.1740', '0.2150', '0.1731', '2,456,683'], ['REZOLUTE INC.', '3.56', '+16.34%', '3.04', '3.58', '3.00', '923,912'], ['WHEELER REAL ESTATE INVESTMENT TRUST', '2.11', '+15.93%', '1.88', '2.28', '1.88', '159,817'], ['ROYALTY MANAGEMENT HOLDING', '1.17', '+15.84%', '1.05', '1.19', '1.05', '88,847'], ['CORE SCIENTIFIC INC.', '4.82', '+15.59%', '4.19', '4.82', '4.10', '8,940,178'], ['FLUENT INC.', '4.09', '+15.54%', '3.51', '4.24', '3.46', '41,314'], ['STERICYCLE INC.', '51.65', '+15.42%', '44.98', '54.33', '44.52', '1,616,373'], ['META MATERIALS INC.', '3.26', '+15.19%', '2.84', '3.36', '2.82', '1,075,918'], ['AUDIOEYE INC.', '23.98', '+15.12%', '20.91', '24.24', '20.91', '230,604'], ['FLUENCE ENERGY INC.', '23.25', '+15.04%', '20.39', '23.88', '20.21', '6,097,267'], ['DYADIC INTERNATIONAL INC.', '1.95', '+14.71%', '1.74', '2.00', '1.66', '273,064'], ['REDWOODS ACQUISITION', '6.08', '+14.50%', '5.80', '6.27', '5.53', '6,639'], ['AST SPACEMOBILE INC.', '4.74', '+14.49%', '4.18', '4.75', '4.15', '6,523,509'], ['APTORUM GROUP LTD.', '4.59', '+14.46%', '4.14', '4.78', '4.10', '23,993'], ['CHILDREN S PLACE INC. (THE)', '13.34', '+14.11%', '12.25', '14.05', '11.24', '1,441,153'], ['99 ACQUISITION GROUP', '0.2499', '+14.11%', '0.2500', '0.2500', '0.2499', '682'], ['SHINECO INC.', '1.38', '+14.05%', '1.20', '1.40', '1.19', '311,956'], ['EVOGENE', '0.8199', '+13.86%', '0.7201', '0.8499', '0.7201', '71,213'], ['INSEEGO CORP.', '7.50', '+13.81%', '6.66', '7.63', '6.66', '255,260'], ['MAGNITE INC.', '12.57', '+13.55%', '12.02', '12.76', '11.81', '4,061,424'], ['INTERACTIVE STRENGTH INC.', '0.2030', '+13.41%', '0.1760', '0.2094', '0.1731', '1,772,625'], ['GUARDANT HEALTH INC.', '25.52', '+13.37%', '26.22', '26.36', '23.34', '6,013,312'], ['NUWELLIS INC.', '0.2492', '+13.27%', '0.2223', '0.2750', '0.2201', '5,593,594'], ['BIOLINERX LTD. ADS', '0.6850', '+13.24%', '0.6500', '0.6897', '0.6300', '547,370'], ['BLUE STAR FOODS', '2.84', '+13.15%', '2.95', '3.68', '2.51', '5,840,745'], ['CBAK ENERGY TECHNOLOGY INC.', '1.30', '+13.04%', '1.15', '1.32', '1.15', '216,871'], ['BANZAI INTERNATIONAL INC.', '0.1915', '+12.98%', '0.1715', '0.2350', '0.1650', '6,167,117'], ['PETCO HEALTH AND WELLNESS CO.', '3.58', '+12.93%', '3.21', '3.70', '3.13', '12,410,311'], ['SHARPS TECHNOLOGY INC.', '0.2143', '+12.73%', '0.2000', '0.2378', '0.1739', '33,834,875'], ['LANZATECH GLOBAL INC.', '2.94', '+12.64%', '2.61', '2.95', '2.57', '355,904'], ['U.S. GOLDMINING INC.', '6.47', '+12.52%', '5.86', '6.84', '5.86', '74,730'], ['NOCO-NOCO INC. ORD.', '0.2160', '+12.50%', '0.2032', '0.2233', '0.1818', '460,757'], ['SCINAI IMMUNOTHERAPEUTICS', '4.14', '+12.50%', '4.03', '4.40', '3.70', '85,595'], ['ENOVIX CORP.', '10.81', '+12.49%', '9.74', '10.85', '9.61', '5,888,976'], ['PARANOVUS ENTERTAINMENT TECHNOLOGY', '1.00', '+12.36%', '1.15', '1.21', '0.72', '2,736,777'], ['BROADWIND INC.', '4.11', '+12.30%', '3.65', '4.15', '3.63', '395,360'], ['GD CULTURE GROUP', '1.01', '+12.22%', '0.90', '1.10', '0.90', '371,317'], ['HEART TEST LABORATORIES INC.', '6.20', '+12.12%', '5.53', '6.59', '5.52', '250,982'], ['NAUTICUS ROBOTICS INC.', '0.1620', '+12.11%', '0.1495', '0.1785', '0.1426', '31,410,447'], ['YS BIOPHARMA CO.', '1.02', '+12.09%', '0.90', '1.10', '0.90', '107,250'], ['TPI COMPOSITES INC.', '4.74', '+12.06%', '4.26', '4.80', '4.26', '1,048,721'], ['QURATE RETAIL INC. SERIES A', '0.7273', '+12.03%', '0.6888', '0.7800', '0.6845', '11,548,774'], ['COMPLETE SOLARIA INC.', '1.59', '+11.97%', '1.42', '1.68', '1.22', '558,581'], ['NXU INC.', '0.5760', '+11.80%', '0.5100', '0.5800', '0.5000', '1,286,656'], ['DATA STORAGE CORP.', '6.97', '+11.70%', '6.33', '6.97', '6.12', '159,039'], ['SUNRUN INC.', '13.39', '+11.68%', '11.94', '13.43', '11.94', '14,315,549'], ['TAT TECHNOLOGIES', '15.22', '+11.34%', '14.00', '15.70', '13.98', '47,982'], ['NOCERA INC.', '1.18', '+11.32%', '1.10', '1.20', '1.10', '6,616'], ['ATIF HOLDINGS LTD.', '0.9900', '+11.24%', '0.8898', '0.9900', '0.8898', '1,182'], ['HEARTCORE ENTERPRISES INC.', '0.8100', '+10.96%', '0.7899', '0.8400', '0.7173', '44,312'], ['MORPHIC HOLDING INC.', '30.80', '+10.95%', '28.01', '31.00', '27.47', '823,809'], ['SMART FOR LIFE INC.', '3.07', '+10.83%', '3.34', '4.09', '2.90', '4,391,898'], ['MAWSON INFRASTRUCTURE GROUP', '1.33', '+10.83%', '1.20', '1.39', '1.19', '230,724'], ['FIRST SOLAR INC.', '276.74', '+10.78%', '253.88', '278.80', '251.00', '8,773,170'], ['RESEARCH FRONTIERS INC.', '2.06', '+10.75%', '1.91', '2.14', '1.89', '49,865'], ['IRIS ENERGY LTD.', '7.83', '+10.75%', '7.11', '8.16', '7.05', '18,558,431'], ['NEXTRACKER INC.', '56.77', '+10.62%', '52.27', '56.94', '51.24', '5,365,055'], ['NANO NUCLEAR ENERGY INC.', '4.40', '+10.55%', '3.97', '4.49', '3.97', '389,232'], ['BIO-KEY INTERNATIONAL INC.', '1.90', '+10.47%', '1.74', '1.93', '1.62', '34,561'], ['AGENUS INC.', '13.62', '+10.28%', '12.55', '14.18', '12.35', '695,430'], ['BITCOIN DEPOT INC.', '2.04', '+10.27%', '1.87', '2.09', '1.87', '144,735'], ['IMAC HOLDINGS INC.', '3.33', '+10.26%', '3.02', '3.44', '3.02', '40,960'], ['60 DEGREES PHARMACEUTICALS', '0.3149', '+10.26%', '0.2950', '0.3415', '0.2801', '2,352,318'], ['BYRNA TECHNOLOGIES INC.', '12.11', '+10.19%', '11.13', '12.13', '10.94', '389,085'], ['COEPTIS THERAPEUTICS HLD.', '0.2877', '+10.19%', '0.2736', '0.2880', '0.2551', '801,662'], ['THE OLB GROUP INC.', '3.80', '+10.14%', '3.67', '4.20', '3.56', '54,175'], ['NETCAPITAL INC.', '0.1925', '+10.13%', '0.3077', '0.3264', '0.1922', '191,353,394'], ['GALERA THERAPEUTICS INC.', '0.1960', '+10.11%', '0.1754', '0.1994', '0.1754', '782,746'], ['STEPSTONE GROUP INC.', '41.71', '+10.11%', '39.06', '41.80', '37.63', '1,223,292'], ['NOVO INTEGRATED SCIENCES INC.', '0.5025', '+10.10%', '0.4750', '0.5250', '0.4700', '662,483'], ['ILEARNINGENGINES INC.', '5.90', '+10.07%', '5.50', '6.34', '5.12', '222,746'], ['SONNET BIOTHERAPEUTICS HLD.', '1.65', '+10.00%', '1.60', '1.71', '1.59', '21,838'], ['DARIOHEALTH CORP.', '1.76', '+10.00%', '1.61', '1.76', '1.61', '124,221'], ['WORKHORSE GROUP INC.', '0.2151', '+9.97%', '0.1972', '0.2198', '0.1900', '11,431,063'], ['ROTH CH ACQUISITION V CO. UNIT', '12.20', '+9.91%', '12.20', '12.20', '12.20', '102'], ['A2Z SMART TECHNOLOGIES', '0.4198', '+9.90%', '0.3800', '0.4200', '0.3710', '123,520'], ['U.S. GOLD CORP.', '5.94', '+9.80%', '5.46', '5.99', '5.46', '199,604'], ['COGENT BIOSCIENCES INC.', '8.22', '+9.75%', '7.52', '8.29', '7.36', '1,001,724'], ['STRYVE FOODS INC.', '1.93', '+9.66%', '1.66', '1.95', '1.66', '17,799'], ['CASI PHARMACEUTICALS INC.', '3.55', '+9.57%', '3.27', '3.80', '3.16', '37,541'], ['VACASA INC.', '4.59', '+9.55%', '4.36', '4.73', '4.36', '126,946'], ['WARRANTEE INC. ADS', '0.3275', '+9.53%', '0.2999', '0.3300', '0.2900', '137,422'], ['TAYSHA GENE THERAPIES INC.', '3.24', '+9.46%', '2.94', '3.27', '2.93', '1,900,709'], ['PLANET IMAGE INTERNATIONAL', '2.20', '+9.45%', '2.20', '2.21', '2.04', '2,068'], ['SCHMID GROUP N.V.', '4.32', '+9.37%', '3.99', '4.75', '3.99', '100,179'], ['TIZIANA LIFE SCIENCES LTD', '0.8099', '+9.34%', '0.8000', '0.8099', '0.7403', '84,265'], ['GULF ISLAND FABRICATION INC.', '7.08', '+9.26%', '6.51', '7.09', '6.49', '91,589']]\n",
      "--- 4.146737813949585 seconds ---\n"
     ]
    }
   ],
   "source": [
    "import requests\n",
    "from bs4 import BeautifulSoup as bs\n",
    "import time\n",
    "import numpy as np\n",
    "import pandas as pd \n",
    "import seaborn as sns\n",
    "import matplotlib.pyplot as plt\n",
    "\n",
    "start_time = time.time()\n",
    "\n",
    "# Store all the pages that we are interested in the website\n",
    "pages = []\n",
    "\n",
    "# Construct URLs for each page\n",
    "url_start = 'https://www.centralcharts.com/en/price-list-ranking/ALL/desc/ts_19-us-nasdaq-stocks--qc_3-previous-close-change?p='\n",
    "for page_number in range(1, 5):\n",
    "    url = url_start + str(page_number)\n",
    "    pages.append(url)\n",
    "\n",
    "# Contains lists that represent each row of the table\n",
    "stock_list = [] \n",
    "for page in pages:\n",
    "    webpage = requests.get(page)\n",
    "    soup = bs(webpage.text, 'html.parser')\n",
    "    \n",
    "    stock_table = soup.find('table', class_='tabMini tabQuotes')\n",
    "    tr_tag_list = stock_table.find_all('tr')\n",
    "    \n",
    "    for each_tr_tag in tr_tag_list[1:]:\n",
    "        td_tag_list = each_tr_tag.find_all('td')\n",
    "        \n",
    "        row_values = []\n",
    "        for each_td_tag in td_tag_list[0:7]:\n",
    "           new_value = each_td_tag.text.strip()\n",
    "           row_values.append(new_value)\n",
    "        stock_list.append(row_values)\n",
    "        \n",
    "print(stock_list)\n",
    "print('--- %s seconds ---' % (time.time() - start_time))\n"
   ]
  },
  {
   "cell_type": "code",
   "execution_count": 73,
   "id": "e1dc79e5-108d-4a84-94c7-c13d66a7df4a",
   "metadata": {},
   "outputs": [
    {
     "name": "stdout",
     "output_type": "stream",
     "text": [
      "                             Name Current Price  Change %    Open    High  \\\n",
      "0         INNOVATIVE EYEWEAR INC.        0.9830  +428.49%  0.2331  1.1300   \n",
      "1                    AKANDA CORP.          4.11   +71.97%    5.17    5.66   \n",
      "2                  ONEMEDNET CORP          2.30   +56.46%    1.60    3.21   \n",
      "3                     IPOWER INC.          2.03   +36.24%    1.60    2.06   \n",
      "4                      MERUS N.V.         59.99   +36.12%   52.60   61.61   \n",
      "..                            ...           ...       ...     ...     ...   \n",
      "115    TAYSHA GENE THERAPIES INC.          3.24    +9.46%    2.94    3.27   \n",
      "116    PLANET IMAGE INTERNATIONAL          2.20    +9.45%    2.20    2.21   \n",
      "117             SCHMID GROUP N.V.          4.32    +9.37%    3.99    4.75   \n",
      "118     TIZIANA LIFE SCIENCES LTD        0.8099    +9.34%  0.8000  0.8099   \n",
      "119  GULF ISLAND FABRICATION INC.          7.08    +9.26%    6.51    7.09   \n",
      "\n",
      "        Low       Volume  \n",
      "0    0.2230  944,432,386  \n",
      "1      3.03   39,116,103  \n",
      "2      1.60  136,208,255  \n",
      "3      1.57    1,406,599  \n",
      "4     52.34    6,908,179  \n",
      "..      ...          ...  \n",
      "115    2.93    1,900,709  \n",
      "116    2.04        2,068  \n",
      "117    3.99      100,179  \n",
      "118  0.7403       84,265  \n",
      "119    6.49       91,589  \n",
      "\n",
      "[120 rows x 7 columns]\n"
     ]
    }
   ],
   "source": [
    "\n",
    "column_names = ['Name', 'Current Price', 'Change %', 'Open', 'High', 'Low', 'Volume']\n",
    "\n",
    "df = pd.DataFrame(stock_list, columns = column_names)\n",
    "\n",
    "print(df)"
   ]
  },
  {
   "cell_type": "code",
   "execution_count": 75,
   "id": "1c66d96b-5d80-461d-816d-162b2c50fe11",
   "metadata": {},
   "outputs": [],
   "source": [
    "# Cleaning my new dataset\n",
    "\n",
    "df.dropna(inplace = True)"
   ]
  },
  {
   "cell_type": "code",
   "execution_count": 76,
   "id": "081a0fc7-c8cf-479f-bbf4-56d274efdf0a",
   "metadata": {},
   "outputs": [],
   "source": [
    "#to use the Change % data I need to convert to a float variable\n",
    "\n",
    "df['Change %'] = df['Change %'].str.rstrip('%').astype(float)\n"
   ]
  },
  {
   "cell_type": "code",
   "execution_count": 105,
   "id": "54a58b58-731c-4766-a58c-b9b2daa63ec3",
   "metadata": {},
   "outputs": [
    {
     "name": "stdout",
     "output_type": "stream",
     "text": [
      "       Current Price      Change %          Open          High           Low  \\\n",
      "count   1.200000e+02  1.200000e+02  1.200000e+02  1.200000e+02  1.200000e+02   \n",
      "mean    1.480297e-17 -3.700743e-18 -1.480297e-17 -1.480297e-17  1.480297e-17   \n",
      "std     1.004193e+00  1.004193e+00  1.004193e+00  1.004193e+00  1.004193e+00   \n",
      "min    -3.034970e-01 -9.044850e-01 -3.015271e-01 -3.078056e-01 -2.984179e-01   \n",
      "25%    -2.792431e-01 -7.448767e-01 -2.793827e-01 -2.835402e-01 -2.762174e-01   \n",
      "50%    -2.182310e-01 -3.881275e-01 -2.164501e-01 -2.186992e-01 -2.171627e-01   \n",
      "75%    -8.086228e-02  3.875462e-01 -7.853332e-02 -7.686733e-02 -7.547953e-02   \n",
      "max     1.004887e+01  2.436295e+00  1.007486e+01  1.003030e+01  1.008669e+01   \n",
      "\n",
      "             Volume  \n",
      "count  1.200000e+02  \n",
      "mean   7.401487e-18  \n",
      "std    1.004193e+00  \n",
      "min   -4.304546e-01  \n",
      "25%   -4.252257e-01  \n",
      "50%   -4.010672e-01  \n",
      "75%   -1.835452e-01  \n",
      "max    3.262806e+00  \n"
     ]
    }
   ],
   "source": [
    "print(df.describe())"
   ]
  },
  {
   "cell_type": "code",
   "execution_count": 101,
   "id": "cbb12000-f25a-477b-987f-61bf037e6295",
   "metadata": {},
   "outputs": [
    {
     "data": {
      "text/html": [
       "<div>\n",
       "<style scoped>\n",
       "    .dataframe tbody tr th:only-of-type {\n",
       "        vertical-align: middle;\n",
       "    }\n",
       "\n",
       "    .dataframe tbody tr th {\n",
       "        vertical-align: top;\n",
       "    }\n",
       "\n",
       "    .dataframe thead th {\n",
       "        text-align: right;\n",
       "    }\n",
       "</style>\n",
       "<table border=\"1\" class=\"dataframe\">\n",
       "  <thead>\n",
       "    <tr style=\"text-align: right;\">\n",
       "      <th></th>\n",
       "      <th>Name</th>\n",
       "      <th>Current Price</th>\n",
       "      <th>Change %</th>\n",
       "      <th>Open</th>\n",
       "      <th>High</th>\n",
       "      <th>Low</th>\n",
       "      <th>Volume</th>\n",
       "    </tr>\n",
       "  </thead>\n",
       "  <tbody>\n",
       "    <tr>\n",
       "      <th>0</th>\n",
       "      <td>INNOVATIVE EYEWEAR INC.</td>\n",
       "      <td>-0.272767</td>\n",
       "      <td>2.436295</td>\n",
       "      <td>-0.297908</td>\n",
       "      <td>-0.272501</td>\n",
       "      <td>-0.294866</td>\n",
       "      <td>3.262806</td>\n",
       "    </tr>\n",
       "    <tr>\n",
       "      <th>1</th>\n",
       "      <td>AKANDA CORP.</td>\n",
       "      <td>-0.155723</td>\n",
       "      <td>2.436295</td>\n",
       "      <td>-0.096016</td>\n",
       "      <td>-0.104417</td>\n",
       "      <td>-0.178663</td>\n",
       "      <td>1.279040</td>\n",
       "    </tr>\n",
       "    <tr>\n",
       "      <th>2</th>\n",
       "      <td>ONEMEDNET CORP</td>\n",
       "      <td>-0.223471</td>\n",
       "      <td>2.436295</td>\n",
       "      <td>-0.242009</td>\n",
       "      <td>-0.195323</td>\n",
       "      <td>-0.237861</td>\n",
       "      <td>3.262806</td>\n",
       "    </tr>\n",
       "    <tr>\n",
       "      <th>3</th>\n",
       "      <td>IPOWER INC.</td>\n",
       "      <td>-0.233577</td>\n",
       "      <td>2.436295</td>\n",
       "      <td>-0.242009</td>\n",
       "      <td>-0.237994</td>\n",
       "      <td>-0.239103</td>\n",
       "      <td>-0.369262</td>\n",
       "    </tr>\n",
       "    <tr>\n",
       "      <th>4</th>\n",
       "      <td>MERUS N.V.</td>\n",
       "      <td>1.935875</td>\n",
       "      <td>2.436295</td>\n",
       "      <td>1.843612</td>\n",
       "      <td>1.971578</td>\n",
       "      <td>1.862651</td>\n",
       "      <td>-0.128785</td>\n",
       "    </tr>\n",
       "    <tr>\n",
       "      <th>...</th>\n",
       "      <td>...</td>\n",
       "      <td>...</td>\n",
       "      <td>...</td>\n",
       "      <td>...</td>\n",
       "      <td>...</td>\n",
       "      <td>...</td>\n",
       "      <td>...</td>\n",
       "    </tr>\n",
       "    <tr>\n",
       "      <th>115</th>\n",
       "      <td>TAYSHA GENE THERAPIES INC.</td>\n",
       "      <td>-0.188287</td>\n",
       "      <td>-0.904485</td>\n",
       "      <td>-0.187211</td>\n",
       "      <td>-0.193097</td>\n",
       "      <td>-0.182803</td>\n",
       "      <td>-0.347664</td>\n",
       "    </tr>\n",
       "    <tr>\n",
       "      <th>116</th>\n",
       "      <td>PLANET IMAGE INTERNATIONAL</td>\n",
       "      <td>-0.227214</td>\n",
       "      <td>-0.904485</td>\n",
       "      <td>-0.217473</td>\n",
       "      <td>-0.232428</td>\n",
       "      <td>-0.219647</td>\n",
       "      <td>-0.430455</td>\n",
       "    </tr>\n",
       "    <tr>\n",
       "      <th>117</th>\n",
       "      <td>SCHMID GROUP N.V.</td>\n",
       "      <td>-0.147862</td>\n",
       "      <td>-0.904485</td>\n",
       "      <td>-0.144271</td>\n",
       "      <td>-0.138182</td>\n",
       "      <td>-0.138921</td>\n",
       "      <td>-0.426366</td>\n",
       "    </tr>\n",
       "    <tr>\n",
       "      <th>118</th>\n",
       "      <td>TIZIANA LIFE SCIENCES LTD</td>\n",
       "      <td>-0.279246</td>\n",
       "      <td>-0.904485</td>\n",
       "      <td>-0.274725</td>\n",
       "      <td>-0.284378</td>\n",
       "      <td>-0.273451</td>\n",
       "      <td>-0.427062</td>\n",
       "    </tr>\n",
       "    <tr>\n",
       "      <th>119</th>\n",
       "      <td>GULF ISLAND FABRICATION INC.</td>\n",
       "      <td>-0.044555</td>\n",
       "      <td>-0.904485</td>\n",
       "      <td>-0.041217</td>\n",
       "      <td>-0.051358</td>\n",
       "      <td>-0.035427</td>\n",
       "      <td>3.262806</td>\n",
       "    </tr>\n",
       "  </tbody>\n",
       "</table>\n",
       "<p>120 rows × 7 columns</p>\n",
       "</div>"
      ],
      "text/plain": [
       "                             Name  Current Price  Change %      Open  \\\n",
       "0         INNOVATIVE EYEWEAR INC.      -0.272767  2.436295 -0.297908   \n",
       "1                    AKANDA CORP.      -0.155723  2.436295 -0.096016   \n",
       "2                  ONEMEDNET CORP      -0.223471  2.436295 -0.242009   \n",
       "3                     IPOWER INC.      -0.233577  2.436295 -0.242009   \n",
       "4                      MERUS N.V.       1.935875  2.436295  1.843612   \n",
       "..                            ...            ...       ...       ...   \n",
       "115    TAYSHA GENE THERAPIES INC.      -0.188287 -0.904485 -0.187211   \n",
       "116    PLANET IMAGE INTERNATIONAL      -0.227214 -0.904485 -0.217473   \n",
       "117             SCHMID GROUP N.V.      -0.147862 -0.904485 -0.144271   \n",
       "118     TIZIANA LIFE SCIENCES LTD      -0.279246 -0.904485 -0.274725   \n",
       "119  GULF ISLAND FABRICATION INC.      -0.044555 -0.904485 -0.041217   \n",
       "\n",
       "         High       Low    Volume  \n",
       "0   -0.272501 -0.294866  3.262806  \n",
       "1   -0.104417 -0.178663  1.279040  \n",
       "2   -0.195323 -0.237861  3.262806  \n",
       "3   -0.237994 -0.239103 -0.369262  \n",
       "4    1.971578  1.862651 -0.128785  \n",
       "..        ...       ...       ...  \n",
       "115 -0.193097 -0.182803 -0.347664  \n",
       "116 -0.232428 -0.219647 -0.430455  \n",
       "117 -0.138182 -0.138921 -0.426366  \n",
       "118 -0.284378 -0.273451 -0.427062  \n",
       "119 -0.051358 -0.035427  3.262806  \n",
       "\n",
       "[120 rows x 7 columns]"
      ]
     },
     "execution_count": 101,
     "metadata": {},
     "output_type": "execute_result"
    }
   ],
   "source": [
    "#winsorizing the dataset is important to make sure outliers are not effecting the analysis.\n",
    "#For irregular stock activities, I will winsorize to conform towards normality.\n",
    "# A good prescription is to winsorize rates of return around plus and minus 10- 15%, especially for samples of all CRSP stocks. There is no meaningful predictive gain using stocks’ own means and standard deviations and/or contemporaneous market rates of return; and eliminating or zeroing returns rather than winsorizing them. Winsorizing is better than not winsorizing.\n",
    "\n",
    "from scipy.stats.mstats import winsorize\n",
    "df['Volume'] = winsorize(df['Volume'], limits=[0.05, 0.05])  # Winsorize volume column\n",
    "\n",
    "df['Change %'] = winsorize(df['Change %'], limits=[0.05, 0.05])\n",
    "\n",
    "def clean_volume(volume):\n",
    "    if isinstance(volume, str):\n",
    "        return float(volume.replace(',', ''))\n",
    "    else:\n",
    "        return volume\n",
    "\n",
    "# Apply the custom function to the 'Volume' column\n",
    "df['Volume'] = df['Volume'].apply(clean_volume)\n",
    "from sklearn.preprocessing import StandardScaler\n",
    "scaler = StandardScaler()\n",
    "numeric_columns = ['Current Price', 'Change %', 'Open', 'High', 'Low', 'Volume']\n",
    "df[numeric_columns] = scaler.fit_transform(df[numeric_columns])\n",
    "\n",
    "df[numeric_columns]\n",
    "\n",
    "df\n"
   ]
  },
  {
   "cell_type": "code",
   "execution_count": 102,
   "id": "c15ebf39-4017-402d-9f74-d87e918e896f",
   "metadata": {},
   "outputs": [
    {
     "name": "stdout",
     "output_type": "stream",
     "text": [
      "       Current Price      Change %          Open          High           Low  \\\n",
      "count   1.200000e+02  1.200000e+02  1.200000e+02  1.200000e+02  1.200000e+02   \n",
      "mean    1.480297e-17 -3.700743e-18 -1.480297e-17 -1.480297e-17  1.480297e-17   \n",
      "std     1.004193e+00  1.004193e+00  1.004193e+00  1.004193e+00  1.004193e+00   \n",
      "min    -3.034970e-01 -9.044850e-01 -3.015271e-01 -3.078056e-01 -2.984179e-01   \n",
      "25%    -2.792431e-01 -7.448767e-01 -2.793827e-01 -2.835402e-01 -2.762174e-01   \n",
      "50%    -2.182310e-01 -3.881275e-01 -2.164501e-01 -2.186992e-01 -2.171627e-01   \n",
      "75%    -8.086228e-02  3.875462e-01 -7.853332e-02 -7.686733e-02 -7.547953e-02   \n",
      "max     1.004887e+01  2.436295e+00  1.007486e+01  1.003030e+01  1.008669e+01   \n",
      "\n",
      "             Volume  \n",
      "count  1.200000e+02  \n",
      "mean   7.401487e-18  \n",
      "std    1.004193e+00  \n",
      "min   -4.304546e-01  \n",
      "25%   -4.252257e-01  \n",
      "50%   -4.010672e-01  \n",
      "75%   -1.835452e-01  \n",
      "max    3.262806e+00  \n"
     ]
    }
   ],
   "source": [
    "print(df.describe()) # descriptive analysis"
   ]
  },
  {
   "cell_type": "code",
   "execution_count": 116,
   "id": "54084567-5f04-4513-84e0-4956479d810b",
   "metadata": {},
   "outputs": [
    {
     "data": {
      "image/png": "[encoded data removed]",
      "text/plain": [
       "<Figure size 432x288 with 1 Axes>"
      ]
     },
     "metadata": {
      "needs_background": "light"
     },
     "output_type": "display_data"
    }
   ],
   "source": [
    "sns.violinplot(x=df['Volume'], inner='quartile')\n",
    "plt.xlabel('Volume')\n",
    "plt.title('Violin Plot of Volume')\n",
    "plt.show()"
   ]
  },
  {
   "cell_type": "code",
   "execution_count": 118,
   "id": "bab10312-5866-4a22-aeb1-5f74a1d037e5",
   "metadata": {},
   "outputs": [
    {
     "data": {
      "image/png": "[encoded data removed]",
      "text/plain": [
       "<Figure size 432x288 with 1 Axes>"
      ]
     },
     "metadata": {
      "needs_background": "light"
     },
     "output_type": "display_data"
    }
   ],
   "source": [
    "sns.scatterplot(x='Volume', y='Change %', data=df)\n",
    "plt.xlabel('Volume')\n",
    "plt.ylabel('Change %')\n",
    "plt.title('Scatter Plot: Volume vs. Change %')\n",
    "plt.show()\n"
   ]
  },
  {
   "cell_type": "code",
   "execution_count": 120,
   "id": "dac36808-b650-4372-914e-4ad1e2cb19ca",
   "metadata": {},
   "outputs": [
    {
     "data": {
      "image/png": "[encoded data removed]",
      "text/plain": [
       "<Figure size 432x288 with 2 Axes>"
      ]
     },
     "metadata": {
      "needs_background": "light"
     },
     "output_type": "display_data"
    }
   ],
   "source": [
    "correlation_matrix = df[numeric_columns].corr()\n",
    "sns.heatmap(correlation_matrix, annot=True, cmap='coolwarm')\n",
    "plt.show()"
   ]
  },
  {
   "cell_type": "code",
   "execution_count": 121,
   "id": "40183f60-4586-4d61-9988-e312e9fb8be1",
   "metadata": {},
   "outputs": [
    {
     "data": {
      "image/png": "[encoded data removed]",
      "text/plain": [
       "<Figure size 432x288 with 1 Axes>"
      ]
     },
     "metadata": {
      "needs_background": "light"
     },
     "output_type": "display_data"
    }
   ],
   "source": [
    "plt.hist(df['Change %'], bins=20, color='skyblue', edgecolor='black')\n",
    "plt.xlabel('Change %')\n",
    "plt.ylabel('Frequency')\n",
    "plt.title('Histogram of Change %')\n",
    "\n",
    "plt.show()"
   ]
  },
  {
   "cell_type": "code",
   "execution_count": 127,
   "id": "fc819cb1-cb6d-4910-82a1-f057d6e15531",
   "metadata": {},
   "outputs": [
    {
     "name": "stdout",
     "output_type": "stream",
     "text": [
      "0    INNOVATIVE EYEWEAR INC.\n",
      "1               AKANDA CORP.\n",
      "2             ONEMEDNET CORP\n",
      "3                IPOWER INC.\n",
      "4                 MERUS N.V.\n",
      "Name: Name, dtype: object\n",
      "115      TAYSHA GENE THERAPIES INC.\n",
      "116      PLANET IMAGE INTERNATIONAL\n",
      "117               SCHMID GROUP N.V.\n",
      "118       TIZIANA LIFE SCIENCES LTD\n",
      "119    GULF ISLAND FABRICATION INC.\n",
      "Name: Name, dtype: object\n"
     ]
    }
   ],
   "source": [
    "#I want to analyze the winners\n",
    "\n",
    "df_change_percentage_sorted = df.sort_values(by='Change %', ascending=False)\n",
    "\n",
    "Top_5_Highest = df_change_percentage_sorted.head(5)\n",
    "\n",
    "Top_5_Lowest = df_change_percentage_sorted.tail(5)\n",
    "\n",
    "print(Top_5_Highest['Name'])\n",
    "\n",
    "print(Top_5_Lowest['Name'])"
   ]
  },
  {
   "cell_type": "code",
   "execution_count": null,
   "id": "1d2edfc3-42d8-4eb0-811b-cf70751d683e",
   "metadata": {},
   "outputs": [],
   "source": [
    "#Add in data to connect with the industry sectors each companies are categorized in.\n",
    "#Analyze what industry had the largest movement and trading volume. "
   ]
  }
 ],
 "metadata": {
  "kernelspec": {
   "display_name": "Python 3 (ipykernel)",
   "language": "python",
   "name": "python3"
  },
  "language_info": {
   "codemirror_mode": {
    "name": "ipython",
    "version": 3
   },
   "file_extension": ".py",
   "mimetype": "text/x-python",
   "name": "python",
   "nbconvert_exporter": "python",
   "pygments_lexer": "ipython3",
   "version": "3.10.5"
  }
 },
 "nbformat": 4,
 "nbformat_minor": 5
}
